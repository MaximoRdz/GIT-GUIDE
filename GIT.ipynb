{
 "cells": [
  {
   "cell_type": "markdown",
   "id": "7dbae7c4-5d38-4e89-9020-ac267ba78cc7",
   "metadata": {},
   "source": [
    "# GIT"
   ]
  },
  {
   "cell_type": "markdown",
   "id": "7c461513-97ae-458b-b026-6a97af475472",
   "metadata": {},
   "source": [
    "Piece of software to manage the version control of files and folders, tracking changes so efficiently that you could track backwards if needed to an early version."
   ]
  },
  {
   "cell_type": "code",
   "execution_count": 1,
   "id": "3ce03554-3a84-4ccc-b00d-ee7d52f12990",
   "metadata": {},
   "outputs": [],
   "source": [
    "import os\n",
    "from IPython.display import Image"
   ]
  },
  {
   "cell_type": "markdown",
   "id": "60f755e7-dd06-4351-bb23-b4a5f9cbe26b",
   "metadata": {
    "tags": []
   },
   "source": [
    "## 1. GIT REPOSITORIES"
   ]
  },
  {
   "cell_type": "markdown",
   "id": "422e2939-dbbb-4e8b-8e6a-bad272263c1a",
   "metadata": {},
   "source": [
    "We need to navigate through the windows terminal, some basic commands are:\n",
    "\n",
    "* dir: display the folders of the current directory\n",
    "* cd: move to\n",
    "* mkdir: make directory\n",
    "\n",
    "### 1.1 Transform folders into GIT repositories:\n",
    "First, we create the new directory that is going to be the git repository and initialize it as a git repo\n",
    "* git init\n"
   ]
  },
  {
   "cell_type": "code",
   "execution_count": 2,
   "id": "9263ab57-5723-4bc1-97ed-796c24477b95",
   "metadata": {
    "tags": []
   },
   "outputs": [
    {
     "data": {
      "text/html": [
       "<img src=\".\\Images\\mkdir.png\" width=\"500\" height=\"200\"/>"
      ],
      "text/plain": [
       "<IPython.core.display.Image object>"
      ]
     },
     "execution_count": 2,
     "metadata": {},
     "output_type": "execute_result"
    }
   ],
   "source": [
    "Image(url = os.path.join('.','Images', 'mkdir.png'), width = 500, height = 200)"
   ]
  },
  {
   "cell_type": "code",
   "execution_count": 3,
   "id": "4e7f85de-ac7d-451d-86e7-2f65e2c1e577",
   "metadata": {
    "tags": []
   },
   "outputs": [
    {
     "data": {
      "text/html": [
       "<img src=\".\\Images\\git_init.png\" width=\"800\" height=\"400\"/>"
      ],
      "text/plain": [
       "<IPython.core.display.Image object>"
      ]
     },
     "execution_count": 3,
     "metadata": {},
     "output_type": "execute_result"
    }
   ],
   "source": [
    "Image(url = os.path.join('.','Images', 'git_init.png'), width = 800, height = 400)"
   ]
  },
  {
   "cell_type": "markdown",
   "id": "5165fe15-923c-4297-8df0-fa6b9f795123",
   "metadata": {},
   "source": [
    "### 1.2 Example\n",
    "Let's create a txt file so we can track its changes. \n",
    "* git status"
   ]
  },
  {
   "cell_type": "code",
   "execution_count": 5,
   "id": "01bc0d91-e19f-4b0f-89a1-4a88c9738fef",
   "metadata": {
    "tags": []
   },
   "outputs": [
    {
     "data": {
      "text/html": [
       "<img src=\".\\Images\\git_status.png\" width=\"500\" height=\"200\"/>"
      ],
      "text/plain": [
       "<IPython.core.display.Image object>"
      ]
     },
     "execution_count": 5,
     "metadata": {},
     "output_type": "execute_result"
    }
   ],
   "source": [
    "Image(url = os.path.join('.','Images', 'git_status.png'), width = 500, height = 200)"
   ]
  },
  {
   "cell_type": "markdown",
   "id": "25beb629-b587-457c-9118-6ee7a7b1c09c",
   "metadata": {},
   "source": [
    "GIT is going to track snapshots that we take so we \"save\" an instant of time of all the folders and files we want.\n",
    "\n",
    "* git add\n",
    "\n",
    "Taking the snapshot\n",
    "\n",
    "* git commit -m \"some explanatory text\"\n"
   ]
  },
  {
   "cell_type": "code",
   "execution_count": 8,
   "id": "671e35a7-9f6c-47a8-a0d7-55e8eab63c5e",
   "metadata": {},
   "outputs": [
    {
     "data": {
      "text/html": [
       "<img src=\".\\Images\\git_add.png\" width=\"800\" height=\"300\"/>"
      ],
      "text/plain": [
       "<IPython.core.display.Image object>"
      ]
     },
     "execution_count": 8,
     "metadata": {},
     "output_type": "execute_result"
    }
   ],
   "source": [
    "Image(url = os.path.join('.','Images', 'git_add.png'), width = 800, height = 300)"
   ]
  },
  {
   "cell_type": "markdown",
   "id": "52e92734-6753-4cda-87bb-40d8662ac0ae",
   "metadata": {},
   "source": [
    "Now suppose we somehow edit the sample.txt file locally, for example adding some extra text and creating a new file (newscript.py)"
   ]
  },
  {
   "cell_type": "code",
   "execution_count": 12,
   "id": "92cca952-e285-477a-a960-fa70a4291099",
   "metadata": {},
   "outputs": [
    {
     "data": {
      "text/html": [
       "<img src=\".\\Images\\git_status1.png\" width=\"600\" height=\"200\"/>"
      ],
      "text/plain": [
       "<IPython.core.display.Image object>"
      ]
     },
     "execution_count": 12,
     "metadata": {},
     "output_type": "execute_result"
    }
   ],
   "source": [
    "Image(url = os.path.join('.','Images', 'git_status1.png'), width = 600, height = 200)"
   ]
  },
  {
   "cell_type": "markdown",
   "id": "f88aaec4-26ec-4324-a51e-81d9cb0d6c2d",
   "metadata": {},
   "source": [
    "As we see, since the previous snapshot we took, the sample.txt has been modified and the newscript.py file has been created, if we wanted to save both changes we will have to add both things using git add so they will be both commited, if not we can commit only one of them or maybe just restore the sample.txt to its previous version\n",
    "\n",
    "* git add *.py: To include all files with some specific extension (here .py)"
   ]
  },
  {
   "cell_type": "code",
   "execution_count": 13,
   "id": "23afefb9-4a72-47f5-a333-be48ad8f7964",
   "metadata": {},
   "outputs": [
    {
     "data": {
      "text/html": [
       "<img src=\".\\Images\\git_commit.png\" width=\"600\" height=\"200\"/>"
      ],
      "text/plain": [
       "<IPython.core.display.Image object>"
      ]
     },
     "execution_count": 13,
     "metadata": {},
     "output_type": "execute_result"
    }
   ],
   "source": [
    "Image(url = os.path.join('.','Images', 'git_commit.png'), width = 600, height = 200)"
   ]
  },
  {
   "cell_type": "markdown",
   "id": "6fd0b3f5-5a14-458d-acd0-3125f97a8657",
   "metadata": {},
   "source": [
    "### 1.3 Visualization of the history:\n",
    "* git log"
   ]
  },
  {
   "cell_type": "code",
   "execution_count": 14,
   "id": "c14abbdd-c9e6-4239-bd88-e595411fdd9f",
   "metadata": {},
   "outputs": [
    {
     "data": {
      "text/html": [
       "<img src=\".\\Images\\git_log.png\" width=\"600\" height=\"200\"/>"
      ],
      "text/plain": [
       "<IPython.core.display.Image object>"
      ]
     },
     "execution_count": 14,
     "metadata": {},
     "output_type": "execute_result"
    }
   ],
   "source": [
    "Image(url = os.path.join('.','Images', 'git_log.png'), width = 600, height = 200)"
   ]
  },
  {
   "cell_type": "markdown",
   "id": "6b7fddc2-dc21-4c45-9d3d-d7f49c2272cc",
   "metadata": {},
   "source": [
    "### 1.4 Going back to a previous state of the repository\n",
    "In this case, following the timeline we see that we first committed sample.txt and then, as a second commit, we committed some changes in sample.txt and the creation of newscript.py\n",
    "\n",
    "* git checkout d5043207: move to a detach branch of a prior version of the repository \n",
    "* git branch: check on which branch we are currently\n",
    "* git switch -c <new-branch-name>: create a new branch so we can keep the new changes"
   ]
  },
  {
   "cell_type": "code",
   "execution_count": 2,
   "id": "b1845be0-bd97-4967-8c11-754ed9a54c70",
   "metadata": {},
   "outputs": [
    {
     "data": {
      "text/html": [
       "<img src=\".\\Images\\git_checkout.png\" width=\"600\" height=\"200\"/>"
      ],
      "text/plain": [
       "<IPython.core.display.Image object>"
      ]
     },
     "execution_count": 2,
     "metadata": {},
     "output_type": "execute_result"
    }
   ],
   "source": [
    "Image(url = os.path.join('.','Images', 'git_checkout.png'), width = 600, height = 200)"
   ]
  },
  {
   "cell_type": "markdown",
   "id": "232f91b0-3cf2-4bf2-a46b-a6c4ecb1e956",
   "metadata": {},
   "source": [
    "If we looked at the local folder we would see how now we only see it as it was when the first commit was done"
   ]
  },
  {
   "cell_type": "code",
   "execution_count": 3,
   "id": "fc8469d9-a2af-4914-bee7-98bd1dae37d0",
   "metadata": {},
   "outputs": [
    {
     "data": {
      "text/html": [
       "<img src=\".\\Images\\detach.png\" width=\"600\" height=\"200\"/>"
      ],
      "text/plain": [
       "<IPython.core.display.Image object>"
      ]
     },
     "execution_count": 3,
     "metadata": {},
     "output_type": "execute_result"
    }
   ],
   "source": [
    "Image(url = os.path.join('.','Images', 'detach.png'), width = 600, height = 200)"
   ]
  },
  {
   "cell_type": "code",
   "execution_count": 4,
   "id": "0d4eb64d-8ed5-4c15-9f85-6965afcd74e1",
   "metadata": {},
   "outputs": [
    {
     "data": {
      "text/html": [
       "<img src=\".\\Images\\git_branch.png\" width=\"600\" height=\"200\"/>"
      ],
      "text/plain": [
       "<IPython.core.display.Image object>"
      ]
     },
     "execution_count": 4,
     "metadata": {},
     "output_type": "execute_result"
    }
   ],
   "source": [
    "Image(url = os.path.join('.','Images', 'git_branch.png'), width = 600, height = 200)"
   ]
  },
  {
   "cell_type": "code",
   "execution_count": 7,
   "id": "04c2bd16-96f8-4150-bc82-76ca995f2198",
   "metadata": {},
   "outputs": [
    {
     "data": {
      "text/html": [
       "<img src=\".\\Images\\git_switch.png\" width=\"800\" height=\"300\"/>"
      ],
      "text/plain": [
       "<IPython.core.display.Image object>"
      ]
     },
     "execution_count": 7,
     "metadata": {},
     "output_type": "execute_result"
    }
   ],
   "source": [
    "Image(url = os.path.join('.','Images', 'git_switch.png'), width = 800, height = 300)"
   ]
  },
  {
   "cell_type": "markdown",
   "id": "583398a6-db8a-438d-896e-4734f4e64ffe",
   "metadata": {
    "tags": []
   },
   "source": [
    "### 1.5 Parallel branches and merging\n",
    "* git checkout -b <new-branch-name>: create a new branch duplicating the current branch\n",
    "\n",
    "Imagine we wanted to duplicate the master branch and work on parallel to it so we can eventually merge the new work to the main branch. \n",
    "\n",
    "First, we move to the branch we want to work from and commit some new file \"some_C_code\""
   ]
  },
  {
   "cell_type": "code",
   "execution_count": 8,
   "id": "c5a60a71-22d8-4cdd-8461-87dac940efad",
   "metadata": {},
   "outputs": [
    {
     "data": {
      "text/html": [
       "<img src=\".\\Images\\c_code.png\" width=\"800\" height=\"300\"/>"
      ],
      "text/plain": [
       "<IPython.core.display.Image object>"
      ]
     },
     "execution_count": 8,
     "metadata": {},
     "output_type": "execute_result"
    }
   ],
   "source": [
    "Image(url = os.path.join('.','Images', 'c_code.png'), width = 800, height = 300)"
   ]
  },
  {
   "cell_type": "markdown",
   "id": "91fff641-11b3-4015-bade-3eda8e4e3481",
   "metadata": {},
   "source": [
    "Obviusly, if we are in the master branch we cannot see the changes made in the C_code branch (as shown below)"
   ]
  },
  {
   "cell_type": "code",
   "execution_count": 10,
   "id": "6ef5e024-209a-4b37-87dd-d90993034ea7",
   "metadata": {},
   "outputs": [
    {
     "data": {
      "text/html": [
       "<img src=\".\\Images\\master_files.png\" width=\"700\" height=\"250\"/>"
      ],
      "text/plain": [
       "<IPython.core.display.Image object>"
      ]
     },
     "execution_count": 10,
     "metadata": {},
     "output_type": "execute_result"
    }
   ],
   "source": [
    "Image(url = os.path.join('.','Images', 'master_files.png'), width = 700, height = 250)"
   ]
  },
  {
   "cell_type": "markdown",
   "id": "affa6ca1-b916-4bbc-bedf-796eea887e59",
   "metadata": {},
   "source": [
    "#### 1.5.1 Merging the new branch to the master branch:\n",
    "* git merge <branch name>: once located in the master branch merge the external to the main\n",
    "    \n",
    "we merge the C_code to master:"
   ]
  },
  {
   "cell_type": "code",
   "execution_count": 11,
   "id": "2337aa7f-b232-4f95-9aa5-82d15cf2b0f8",
   "metadata": {},
   "outputs": [
    {
     "data": {
      "text/html": [
       "<img src=\".\\Images\\git_merge.png\" width=\"700\" height=\"250\"/>"
      ],
      "text/plain": [
       "<IPython.core.display.Image object>"
      ]
     },
     "execution_count": 11,
     "metadata": {},
     "output_type": "execute_result"
    }
   ],
   "source": [
    "Image(url = os.path.join('.','Images', 'git_merge.png'), width = 700, height = 250)"
   ]
  },
  {
   "cell_type": "code",
   "execution_count": 12,
   "id": "d7b0ecd5-c20f-4c40-b8c4-1af923eb05f7",
   "metadata": {},
   "outputs": [
    {
     "data": {
      "text/html": [
       "<img src=\".\\Images\\master_files_merged.png\" width=\"700\" height=\"250\"/>"
      ],
      "text/plain": [
       "<IPython.core.display.Image object>"
      ]
     },
     "execution_count": 12,
     "metadata": {},
     "output_type": "execute_result"
    }
   ],
   "source": [
    "Image(url = os.path.join('.','Images', 'master_files_merged.png'), width = 700, height = 250)"
   ]
  },
  {
   "cell_type": "markdown",
   "id": "b497b30c-3d24-4209-9962-1a99647857e1",
   "metadata": {},
   "source": [
    "#### 1.5.2 Advance notions on merging: \n",
    "Imagine some work has been done in the master branch and also, some different work ahs been done in parallel, then the timeline would look: \n",
    "\n",
    "(See top answer for the timeline representation command: \n",
    "https://stackoverflow.com/questions/1057564/pretty-git-branch-graphs)"
   ]
  },
  {
   "cell_type": "code",
   "execution_count": 3,
   "id": "1fc3d36e-12fa-49a0-a825-16c7c6012077",
   "metadata": {},
   "outputs": [
    {
     "data": {
      "text/html": [
       "<img src=\".\\Images\\parallel_branches.png\" width=\"700\" height=\"250\"/>"
      ],
      "text/plain": [
       "<IPython.core.display.Image object>"
      ]
     },
     "execution_count": 3,
     "metadata": {},
     "output_type": "execute_result"
    }
   ],
   "source": [
    "Image(url = os.path.join('.','Images', 'parallel_branches.png'), width = 700, height = 250)"
   ]
  },
  {
   "cell_type": "markdown",
   "id": "27983a32-e0fb-4c8d-9187-80259efb5b33",
   "metadata": {},
   "source": [
    "We can see how the main branch keeps growing (the * represents the addition of some file) while the C_code grows independently. \n",
    "\n",
    "If we update the main branch with the work done in the C_code branch it would look as follows (keep in mind that the new work represented by the red dash line and * will not be present in C_code since it was done in parallel"
   ]
  },
  {
   "cell_type": "code",
   "execution_count": 5,
   "id": "adc43553-5c3d-4351-a5aa-bd0a775ccf10",
   "metadata": {},
   "outputs": [
    {
     "data": {
      "text/html": [
       "<img src=\".\\Images\\parallel_merge.png\" width=\"700\" height=\"250\"/>"
      ],
      "text/plain": [
       "<IPython.core.display.Image object>"
      ]
     },
     "execution_count": 5,
     "metadata": {},
     "output_type": "execute_result"
    }
   ],
   "source": [
    "Image(url = os.path.join('.','Images', 'parallel_merge.png'), width = 700, height = 250)"
   ]
  },
  {
   "cell_type": "markdown",
   "id": "4f16ecac-9d66-4608-afc3-e0c3232e0941",
   "metadata": {},
   "source": [
    "## 2. GIT PUSH/PULL \n",
    "Let's add this git_repository to my own GITHUB (https://github.com/MaximoRdz/GIT-GUIDE)\n",
    "\n",
    "* git remote add origin <git url>: set the origin on your github\n",
    "* git push -u origin master: push the master branch to the github repository\n",
    "    \n",
    "-**Credentials update** : In case you run into the same problem as me, check https://stackoverflow.com/questions/40957380/remote-invalid-username-or-password-fatal-authentication-failed"
   ]
  },
  {
   "cell_type": "code",
   "execution_count": 14,
   "id": "c93e085e-a0a7-405f-8d0e-d216da12bda5",
   "metadata": {},
   "outputs": [
    {
     "data": {
      "text/html": [
       "<img src=\".\\Images\\git_remote.png\" width=\"800\" height=\"400\"/>"
      ],
      "text/plain": [
       "<IPython.core.display.Image object>"
      ]
     },
     "execution_count": 14,
     "metadata": {},
     "output_type": "execute_result"
    }
   ],
   "source": [
    "Image(url = os.path.join('.','Images', 'git_remote.png'), width = 800, height = 400)"
   ]
  },
  {
   "cell_type": "code",
   "execution_count": 15,
   "id": "c9b0803c-7c48-4568-8cf6-f510216981de",
   "metadata": {},
   "outputs": [
    {
     "data": {
      "text/html": [
       "<img src=\".\\Images\\git_push.png\" width=\"800\" height=\"400\"/>"
      ],
      "text/plain": [
       "<IPython.core.display.Image object>"
      ]
     },
     "execution_count": 15,
     "metadata": {},
     "output_type": "execute_result"
    }
   ],
   "source": [
    "Image(url = os.path.join('.','Images', 'git_push.png'), width = 800, height = 400)"
   ]
  },
  {
   "cell_type": "code",
   "execution_count": null,
   "id": "c87128f9-81e6-454e-8be2-7abfb7055e61",
   "metadata": {},
   "outputs": [],
   "source": []
  }
 ],
 "metadata": {
  "kernelspec": {
   "display_name": "Python 3 (ipykernel)",
   "language": "python",
   "name": "python3"
  },
  "language_info": {
   "codemirror_mode": {
    "name": "ipython",
    "version": 3
   },
   "file_extension": ".py",
   "mimetype": "text/x-python",
   "name": "python",
   "nbconvert_exporter": "python",
   "pygments_lexer": "ipython3",
   "version": "3.9.12"
  },
  "toc-autonumbering": false,
  "toc-showmarkdowntxt": false
 },
 "nbformat": 4,
 "nbformat_minor": 5
}
